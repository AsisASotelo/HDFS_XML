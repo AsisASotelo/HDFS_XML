{
 "cells": [
  {
   "cell_type": "code",
   "execution_count": 1,
   "metadata": {},
   "outputs": [],
   "source": [
    "from lxml import etree\n",
    "import re"
   ]
  },
  {
   "cell_type": "code",
   "execution_count": 2,
   "metadata": {},
   "outputs": [
    {
     "output_type": "stream",
     "name": "stdout",
     "text": "Untitled.ipynb fsimage.xml    index.xml      xml.ipynb\nbibs.xml       index.py       search.py\n"
    }
   ],
   "source": [
    "!ls\n",
    "flatten = lambda l: [item for sublist in l for item in sublist]\n"
   ]
  },
  {
   "cell_type": "code",
   "execution_count": 3,
   "metadata": {},
   "outputs": [
    {
     "output_type": "stream",
     "name": "stdout",
     "text": "b'<bib>\\n<cd>abc</cd>\\n<book price=\"35\">\\n\\t<publisher>Addison-Wesley</publisher>\\n        <author>Serge Abiteboul</author>\\n        <author><first-name>Rick</first-name><last-name>Hull</last-name></author>\\n        <author age=\"20\">Victor Vianu</author>\\n        <title>Foundations of Databases</title>\\n        <year>1995</year>\\n\\t<price>38.8</price>\\n</book>\\n<book price=\"55\">\\n        <publisher>Freeman</publisher>\\n        <author>Jeffrey D. Ullman</author>\\n        <title>Principles of Database and Knowledge Base Systems</title>\\n        <year>1998</year>\\n</book>\\n<book>\\n\\t<title>xyz</title>\\n\\t<author/>\\n</book>\\n</bib>\\n'\n"
    }
   ],
   "source": [
    "f= open('bibs.xml')\n",
    "tree=etree.parse(f)\n",
    "print(etree.tostring(tree,pretty_print=True))"
   ]
  },
  {
   "cell_type": "code",
   "execution_count": 4,
   "metadata": {},
   "outputs": [
    {
     "output_type": "stream",
     "name": "stdout",
     "text": "b'<author>Serge Abiteboul</author>\\n        '\nb'<author><first-name>Rick</first-name><last-name>Hull</last-name></author>\\n        '\nb'<author age=\"20\">Victor Vianu</author>\\n        '\nb'<author>Jeffrey D. Ullman</author>\\n        '\nb'<author/>\\n'\n"
    }
   ],
   "source": [
    "for element in tree.xpath(\"//author\"):\n",
    "    print(etree.tostring(element))\n"
   ]
  },
  {
   "cell_type": "code",
   "execution_count": 5,
   "metadata": {},
   "outputs": [
    {
     "output_type": "stream",
     "name": "stdout",
     "text": "author Serge Abiteboul\nauthor None\nauthor Victor Vianu\nauthor Jeffrey D. Ullman\nauthor None\n"
    }
   ],
   "source": [
    "\n",
    "\n",
    "for element in tree.xpath(\"//author\"):\n",
    "    print(element.tag,element.text)"
   ]
  },
  {
   "cell_type": "code",
   "execution_count": 6,
   "metadata": {},
   "outputs": [
    {
     "output_type": "stream",
     "name": "stdout",
     "text": "b'<author><first-name>Rick</first-name><last-name>Hull</last-name></author>\\n        '\n"
    }
   ],
   "source": [
    "# We can add a condition to the selections\n",
    "# For example only authors who have a first name element of Rick \n",
    "\n",
    "for element in tree.xpath('//author[first-name=\"Rick\"]'):\n",
    "    print(etree.tostring(element))"
   ]
  },
  {
   "cell_type": "code",
   "execution_count": 7,
   "metadata": {},
   "outputs": [],
   "source": [
    "def printf(elems,mode = 'node'):\n",
    "    if mode == 'node':\n",
    "        for elem in elems:\n",
    "            print (etree.tostring(elem).decode('utf-8'))\n",
    "    if mode == 'text':\n",
    "        for elem in elems:\n",
    "            print(elem.text)"
   ]
  },
  {
   "cell_type": "code",
   "execution_count": 8,
   "metadata": {},
   "outputs": [
    {
     "output_type": "stream",
     "name": "stdout",
     "text": "<author><first-name>Rick</first-name><last-name>Hull</last-name></author>\n        \n"
    }
   ],
   "source": [
    "printf(tree.xpath('//author[first-name=\"Rick\"]'))\n"
   ]
  },
  {
   "cell_type": "code",
   "execution_count": 9,
   "metadata": {},
   "outputs": [],
   "source": [
    "# In order to work with an HTML document we must import html from lxml\n",
    "from lxml import html"
   ]
  },
  {
   "cell_type": "code",
   "execution_count": 10,
   "metadata": {},
   "outputs": [],
   "source": [
    "# First we import the file fsimage.xml as a tree\n",
    "f= open('fsimage.xml')\n",
    "fstree=etree.parse(f)"
   ]
  },
  {
   "cell_type": "code",
   "execution_count": 11,
   "metadata": {},
   "outputs": [
    {
     "output_type": "stream",
     "name": "stdout",
     "text": "<INodeSection><lastInodeId>16422</lastInodeId><numInodes>38</numInodes><inode><id>16385</id><type>DIRECTORY</type><name/><mtime>1581231015982</mtime><permission>ec2-user:supergroup:0755</permission><nsquota>9223372036854775807</nsquota><dsquota>-1</dsquota></inode>\n<inode><id>16386</id><type>DIRECTORY</type><name>user</name><mtime>1581231034866</mtime><permission>ec2-user:supergroup:0755</permission><nsquota>-1</nsquota><dsquota>-1</dsquota></inode>\n<inode><id>16387</id><type>DIRECTORY</type><name>ec2-user</name><mtime>1581875598912</mtime><permission>ec2-user:supergroup:0755</permission><nsquota>-1</nsquota><dsquota>-1</dsquota></inode>\n<inode><id>16388</id><type>DIRECTORY</type><name>input1</name><mtime>1581379063205</mtime><permission>ec2-user:supergroup:0755</permission><nsquota>-1</nsquota><dsquota>-1</dsquota></inode>\n<inode><id>16389</id><type>FILE</type><name>a.txt</name><replication>1</replication><mtime>1581379063191</mtime><atime>1581379062314</atime><preferredBlockSize>134217728</preferredBlockSize><permission>ec2-user:supergroup:0644</permission><blocks><block><id>1073741825</id><genstamp>1001</genstamp><numBytes>19</numBytes></block>\n</blocks>\n<storagePolicyId>0</storagePolicyId></inode>\n<inode><id>16390</id><type>FILE</type><name>b.txt</name><replication>1</replication><mtime>1581379119112</mtime><atime>1581379118873</atime><preferredBlockSize>134217728</preferredBlockSize><permission>ec2-user:supergroup:0644</permission><blocks><block><id>1073741826</id><genstamp>1002</genstamp><numBytes>19</numBytes></block>\n</blocks>\n<storagePolicyId>0</storagePolicyId></inode>\n<inode><id>16391</id><type>DIRECTORY</type><name>input</name><mtime>1581874756232</mtime><permission>ec2-user:supergroup:0755</permission><nsquota>-1</nsquota><dsquota>-1</dsquota></inode>\n<inode><id>16392</id><type>FILE</type><name>capacity-scheduler.xml</name><replication>1</replication><mtime>1581874755963</mtime><atime>1581874755714</atime><preferredBlockSize>134217728</preferredBlockSize><permission>ec2-user:supergroup:0644</permission><blocks><block><id>1073741827</id><genstamp>1003</genstamp><numBytes>8260</numBytes></block>\n</blocks>\n<storagePolicyId>0</storagePolicyId></inode>\n<inode><id>16393</id><type>FILE</type><name>core-site.xml</name><replication>1</replication><mtime>1581874756018</mtime><atime>1581874755988</atime><preferredBlockSize>134217728</preferredBlockSize><permission>ec2-user:supergroup:0644</permission><blocks><block><id>1073741828</id><genstamp>1004</genstamp><numBytes>874</numBytes></block>\n</blocks>\n<storagePolicyId>0</storagePolicyId></inode>\n<inode><id>16394</id><type>FILE</type><name>hadoop-policy.xml</name><replication>1</replication><mtime>1581874756064</mtime><atime>1581874756045</atime><preferredBlockSize>134217728</preferredBlockSize><permission>ec2-user:supergroup:0644</permission><blocks><block><id>1073741829</id><genstamp>1005</genstamp><numBytes>11392</numBytes></block>\n</blocks>\n<storagePolicyId>0</storagePolicyId></inode>\n<inode><id>16395</id><type>FILE</type><name>hdfs-site.xml</name><replication>1</replication><mtime>1581874756097</mtime><atime>1581874756079</atime><preferredBlockSize>134217728</preferredBlockSize><permission>ec2-user:supergroup:0644</permission><blocks><block><id>1073741830</id><genstamp>1006</genstamp><numBytes>853</numBytes></block>\n</blocks>\n<storagePolicyId>0</storagePolicyId></inode>\n<inode><id>16396</id><type>FILE</type><name>httpfs-site.xml</name><replication>1</replication><mtime>1581874756121</mtime><atime>1581874756104</atime><preferredBlockSize>134217728</preferredBlockSize><permission>ec2-user:supergroup:0644</permission><blocks><block><id>1073741831</id><genstamp>1007</genstamp><numBytes>620</numBytes></block>\n</blocks>\n<storagePolicyId>0</storagePolicyId></inode>\n<inode><id>16397</id><type>FILE</type><name>kms-acls.xml</name><replication>1</replication><mtime>1581874756148</mtime><atime>1581874756128</atime><preferredBlockSize>134217728</preferredBlockSize><permission>ec2-user:supergroup:0644</permission><blocks><block><id>1073741832</id><genstamp>1008</genstamp><numBytes>3518</numBytes></block>\n</blocks>\n<storagePolicyId>0</storagePolicyId></inode>\n<inode><id>16398</id><type>FILE</type><name>kms-site.xml</name><replication>1</replication><mtime>1581874756180</mtime><atime>1581874756155</atime><preferredBlockSize>134217728</preferredBlockSize><permission>ec2-user:supergroup:0644</permission><blocks><block><id>1073741833</id><genstamp>1009</genstamp><numBytes>682</numBytes></block>\n</blocks>\n<storagePolicyId>0</storagePolicyId></inode>\n<inode><id>16399</id><type>FILE</type><name>mapred-site.xml</name><replication>1</replication><mtime>1581874756204</mtime><atime>1581874756187</atime><preferredBlockSize>134217728</preferredBlockSize><permission>ec2-user:supergroup:0644</permission><blocks><block><id>1073741834</id><genstamp>1010</genstamp><numBytes>758</numBytes></block>\n</blocks>\n<storagePolicyId>0</storagePolicyId></inode>\n<inode><id>16400</id><type>FILE</type><name>yarn-site.xml</name><replication>1</replication><mtime>1581874756230</mtime><atime>1581874756212</atime><preferredBlockSize>134217728</preferredBlockSize><permission>ec2-user:supergroup:0644</permission><blocks><block><id>1073741835</id><genstamp>1011</genstamp><numBytes>690</numBytes></block>\n</blocks>\n<storagePolicyId>0</storagePolicyId></inode>\n<inode><id>16401</id><type>DIRECTORY</type><name>inf551</name><mtime>1581874936486</mtime><permission>ec2-user:supergroup:0755</permission><nsquota>-1</nsquota><dsquota>-1</dsquota></inode>\n<inode><id>16402</id><type>DIRECTORY</type><name>input</name><mtime>1581874949708</mtime><permission>ec2-user:supergroup:0755</permission><nsquota>-1</nsquota><dsquota>-1</dsquota></inode>\n<inode><id>16403</id><type>FILE</type><name>capacity-scheduler.xml</name><replication>1</replication><mtime>1581874949474</mtime><atime>1581874949234</atime><preferredBlockSize>134217728</preferredBlockSize><permission>ec2-user:supergroup:0644</permission><blocks><block><id>1073741836</id><genstamp>1012</genstamp><numBytes>8260</numBytes></block>\n</blocks>\n<storagePolicyId>0</storagePolicyId></inode>\n<inode><id>16404</id><type>FILE</type><name>core-site.xml</name><replication>1</replication><mtime>1581874949513</mtime><atime>1581874949495</atime><preferredBlockSize>134217728</preferredBlockSize><permission>ec2-user:supergroup:0644</permission><blocks><block><id>1073741837</id><genstamp>1013</genstamp><numBytes>874</numBytes></block>\n</blocks>\n<storagePolicyId>0</storagePolicyId></inode>\n<inode><id>16405</id><type>FILE</type><name>hadoop-policy.xml</name><replication>1</replication><mtime>1581874949552</mtime><atime>1581874949534</atime><preferredBlockSize>134217728</preferredBlockSize><permission>ec2-user:supergroup:0644</permission><blocks><block><id>1073741838</id><genstamp>1014</genstamp><numBytes>11392</numBytes></block>\n</blocks>\n<storagePolicyId>0</storagePolicyId></inode>\n<inode><id>16406</id><type>FILE</type><name>hdfs-site.xml</name><replication>1</replication><mtime>1581874949573</mtime><atime>1581874949558</atime><preferredBlockSize>134217728</preferredBlockSize><permission>ec2-user:supergroup:0644</permission><blocks><block><id>1073741839</id><genstamp>1015</genstamp><numBytes>853</numBytes></block>\n</blocks>\n<storagePolicyId>0</storagePolicyId></inode>\n<inode><id>16407</id><type>FILE</type><name>httpfs-site.xml</name><replication>1</replication><mtime>1581874949603</mtime><atime>1581874949579</atime><preferredBlockSize>134217728</preferredBlockSize><permission>ec2-user:supergroup:0644</permission><blocks><block><id>1073741840</id><genstamp>1016</genstamp><numBytes>620</numBytes></block>\n</blocks>\n<storagePolicyId>0</storagePolicyId></inode>\n<inode><id>16408</id><type>FILE</type><name>kms-acls.xml</name><replication>1</replication><mtime>1581874949629</mtime><atime>1581874949610</atime><preferredBlockSize>134217728</preferredBlockSize><permission>ec2-user:supergroup:0644</permission><blocks><block><id>1073741841</id><genstamp>1017</genstamp><numBytes>3518</numBytes></block>\n</blocks>\n<storagePolicyId>0</storagePolicyId></inode>\n<inode><id>16409</id><type>FILE</type><name>kms-site.xml</name><replication>1</replication><mtime>1581874949658</mtime><atime>1581874949641</atime><preferredBlockSize>134217728</preferredBlockSize><permission>ec2-user:supergroup:0644</permission><blocks><block><id>1073741842</id><genstamp>1018</genstamp><numBytes>682</numBytes></block>\n</blocks>\n<storagePolicyId>0</storagePolicyId></inode>\n<inode><id>16410</id><type>FILE</type><name>mapred-site.xml</name><replication>1</replication><mtime>1581874949683</mtime><atime>1581874949667</atime><preferredBlockSize>134217728</preferredBlockSize><permission>ec2-user:supergroup:0644</permission><blocks><block><id>1073741843</id><genstamp>1019</genstamp><numBytes>758</numBytes></block>\n</blocks>\n<storagePolicyId>0</storagePolicyId></inode>\n<inode><id>16411</id><type>FILE</type><name>yarn-site.xml</name><replication>1</replication><mtime>1581874949707</mtime><atime>1581874949692</atime><preferredBlockSize>134217728</preferredBlockSize><permission>ec2-user:supergroup:0644</permission><blocks><block><id>1073741844</id><genstamp>1020</genstamp><numBytes>690</numBytes></block>\n</blocks>\n<storagePolicyId>0</storagePolicyId></inode>\n<inode><id>16412</id><type>DIRECTORY</type><name>inf351</name><mtime>1581875603639</mtime><permission>ec2-user:supergroup:0755</permission><nsquota>-1</nsquota><dsquota>-1</dsquota></inode>\n<inode><id>16413</id><type>DIRECTORY</type><name>input</name><mtime>1581875617493</mtime><permission>ec2-user:supergroup:0755</permission><nsquota>-1</nsquota><dsquota>-1</dsquota></inode>\n<inode><id>16414</id><type>FILE</type><name>capacity-scheduler.xml</name><replication>1</replication><mtime>1581875617243</mtime><atime>1581875617018</atime><preferredBlockSize>134217728</preferredBlockSize><permission>ec2-user:supergroup:0644</permission><blocks><block><id>1073741845</id><genstamp>1021</genstamp><numBytes>8260</numBytes></block>\n</blocks>\n<storagePolicyId>0</storagePolicyId></inode>\n<inode><id>16415</id><type>FILE</type><name>core-site.xml</name><replication>1</replication><mtime>1581875617276</mtime><atime>1581875617261</atime><preferredBlockSize>134217728</preferredBlockSize><permission>ec2-user:supergroup:0644</permission><blocks><block><id>1073741846</id><genstamp>1022</genstamp><numBytes>874</numBytes></block>\n</blocks>\n<storagePolicyId>0</storagePolicyId></inode>\n<inode><id>16416</id><type>FILE</type><name>hadoop-policy.xml</name><replication>1</replication><mtime>1581875617307</mtime><atime>1581875617290</atime><preferredBlockSize>134217728</preferredBlockSize><permission>ec2-user:supergroup:0644</permission><blocks><block><id>1073741847</id><genstamp>1023</genstamp><numBytes>11392</numBytes></block>\n</blocks>\n<storagePolicyId>0</storagePolicyId></inode>\n<inode><id>16417</id><type>FILE</type><name>hdfs-site.xml</name><replication>1</replication><mtime>1581875617323</mtime><atime>1581875617313</atime><preferredBlockSize>134217728</preferredBlockSize><permission>ec2-user:supergroup:0644</permission><blocks><block><id>1073741848</id><genstamp>1024</genstamp><numBytes>853</numBytes></block>\n</blocks>\n<storagePolicyId>0</storagePolicyId></inode>\n<inode><id>16418</id><type>FILE</type><name>httpfs-site.xml</name><replication>1</replication><mtime>1581875617364</mtime><atime>1581875617338</atime><preferredBlockSize>134217728</preferredBlockSize><permission>ec2-user:supergroup:0644</permission><blocks><block><id>1073741849</id><genstamp>1025</genstamp><numBytes>620</numBytes></block>\n</blocks>\n<storagePolicyId>0</storagePolicyId></inode>\n<inode><id>16419</id><type>FILE</type><name>kms-acls.xml</name><replication>1</replication><mtime>1581875617405</mtime><atime>1581875617372</atime><preferredBlockSize>134217728</preferredBlockSize><permission>ec2-user:supergroup:0644</permission><blocks><block><id>1073741850</id><genstamp>1026</genstamp><numBytes>3518</numBytes></block>\n</blocks>\n<storagePolicyId>0</storagePolicyId></inode>\n<inode><id>16420</id><type>FILE</type><name>kms-site.xml</name><replication>1</replication><mtime>1581875617438</mtime><atime>1581875617413</atime><preferredBlockSize>134217728</preferredBlockSize><permission>ec2-user:supergroup:0644</permission><blocks><block><id>1073741851</id><genstamp>1027</genstamp><numBytes>682</numBytes></block>\n</blocks>\n<storagePolicyId>0</storagePolicyId></inode>\n<inode><id>16421</id><type>FILE</type><name>mapred-site.xml</name><replication>1</replication><mtime>1581875617469</mtime><atime>1581875617447</atime><preferredBlockSize>134217728</preferredBlockSize><permission>ec2-user:supergroup:0644</permission><blocks><block><id>1073741852</id><genstamp>1028</genstamp><numBytes>758</numBytes></block>\n</blocks>\n<storagePolicyId>0</storagePolicyId></inode>\n<inode><id>16422</id><type>FILE</type><name>yarn-site.xml</name><replication>1</replication><mtime>1581875617491</mtime><atime>1581875617477</atime><preferredBlockSize>134217728</preferredBlockSize><permission>ec2-user:supergroup:0644</permission><blocks><block><id>1073741853</id><genstamp>1029</genstamp><numBytes>690</numBytes></block>\n</blocks>\n<storagePolicyId>0</storagePolicyId></inode>\n</INodeSection>\n\n"
    }
   ],
   "source": [
    "printf(fstree.xpath('//INodeSection'))"
   ]
  },
  {
   "cell_type": "code",
   "execution_count": 12,
   "metadata": {},
   "outputs": [
    {
     "output_type": "stream",
     "name": "stdout",
     "text": "user\nec2-user\ninput1\na\nb\ninput\ncapacity-scheduler\ncore-site\nhadoop-policy\nhdfs-site\nhttpfs-site\nkms-acls\nkms-site\nmapred-site\nyarn-site\ninf551\ninput\ncapacity-scheduler\ncore-site\nhadoop-policy\nhdfs-site\nhttpfs-site\nkms-acls\nkms-site\nmapred-site\nyarn-site\ninf351\ninput\ncapacity-scheduler\ncore-site\nhadoop-policy\nhdfs-site\nhttpfs-site\nkms-acls\nkms-site\nmapred-site\nyarn-site\n"
    }
   ],
   "source": [
    "for element in fstree.xpath(\"//INodeSection/inode/name\"):\n",
    "    if(element.text):\n",
    "        print(element.text.replace(\".txt\",\"\").replace(\".xml\",\"\"))\n"
   ]
  },
  {
   "cell_type": "code",
   "execution_count": 13,
   "metadata": {},
   "outputs": [],
   "source": [
    "elem_list =[]\n",
    "for element in fstree.xpath(\"//INodeSection/inode/name\"):\n",
    "    if(element.text):\n",
    "        elem_list.append(element.text.replace(\".txt\",\"\").replace(\".xml\",\"\"))\n",
    "\n",
    "token_list = [sub.replace('-',' ').split(' ') for sub in elem_list]"
   ]
  },
  {
   "cell_type": "code",
   "execution_count": 14,
   "metadata": {},
   "outputs": [
    {
     "output_type": "stream",
     "name": "stdout",
     "text": "['user', 'ec2', 'user', 'input1', 'a', 'b', 'input', 'capacity', 'scheduler', 'core', 'site', 'hadoop', 'policy', 'hdfs', 'site', 'httpfs', 'site', 'kms', 'acls', 'kms', 'site', 'mapred', 'site', 'yarn', 'site', 'inf551', 'input', 'capacity', 'scheduler', 'core', 'site', 'hadoop', 'policy', 'hdfs', 'site', 'httpfs', 'site', 'kms', 'acls', 'kms', 'site', 'mapred', 'site', 'yarn', 'site', 'inf351', 'input', 'capacity', 'scheduler', 'core', 'site', 'hadoop', 'policy', 'hdfs', 'site', 'httpfs', 'site', 'kms', 'acls', 'kms', 'site', 'mapred', 'site', 'yarn', 'site']\n"
    }
   ],
   "source": [
    "print(flatten(token_list))\n",
    "flat_token_list = set(flatten(token_list))\n"
   ]
  },
  {
   "cell_type": "code",
   "execution_count": 15,
   "metadata": {},
   "outputs": [
    {
     "output_type": "stream",
     "name": "stdout",
     "text": "a 16389\na 16392\na 16394\na 16397\na 16399\na 16400\na 16403\na 16405\na 16408\na 16410\na 16411\na 16414\na 16416\na 16419\na 16421\na 16422\nuser 16386\nuser 16387\nacls 16397\nacls 16408\nacls 16419\nhdfs 16395\nhdfs 16406\nhdfs 16417\nsite 16393\nsite 16395\nsite 16396\nsite 16398\nsite 16399\nsite 16400\nsite 16404\nsite 16406\nsite 16407\nsite 16409\nsite 16410\nsite 16411\nsite 16415\nsite 16417\nsite 16418\nsite 16420\nsite 16421\nsite 16422\nyarn 16400\nyarn 16411\nyarn 16422\ninput 16388\ninput 16391\ninput 16402\ninput 16413\nkms 16397\nkms 16398\nkms 16408\nkms 16409\nkms 16419\nkms 16420\nhadoop 16394\nhadoop 16405\nhadoop 16416\ncore 16393\ncore 16404\ncore 16415\nscheduler 16392\nscheduler 16403\nscheduler 16414\ninput1 16388\nec2 16387\npolicy 16394\npolicy 16405\npolicy 16416\ninf351 16412\ninf551 16401\nhttpfs 16396\nhttpfs 16407\nhttpfs 16418\nmapred 16399\nmapred 16410\nmapred 16421\nb 16390\ncapacity 16392\ncapacity 16403\ncapacity 16414\n"
    }
   ],
   "source": [
    "for name in flat_token_list:\n",
    "    for element in fstree.xpath(\"//INodeSection/inode[contains(name,'{}')]/id\".format(name)):\n",
    "        print(name,element.text)\n",
    "\n"
   ]
  },
  {
   "cell_type": "code",
   "execution_count": 16,
   "metadata": {},
   "outputs": [
    {
     "output_type": "stream",
     "name": "stdout",
     "text": "<title>Foundations of Databases</title>\n        \n"
    }
   ],
   "source": [
    "# We have created both a list of file and directory names. We have also found the inode numbers for each of these tokens \n",
    "\n",
    "printf(tree.xpath(\"//book[contains(author,'Serge')]/title\"))"
   ]
  },
  {
   "cell_type": "code",
   "execution_count": 17,
   "metadata": {},
   "outputs": [
    {
     "output_type": "stream",
     "name": "stdout",
     "text": "index\n"
    }
   ],
   "source": [
    "#We must then make another tree and add all of the tokens to the index\n",
    "index_root=etree.Element(\"index\")\n",
    "print(index_root.tag)"
   ]
  },
  {
   "cell_type": "code",
   "execution_count": 18,
   "metadata": {},
   "outputs": [],
   "source": [
    "# postings = index_root.append(etree.Element(\"postings\"))\n",
    "# postings = index_root[0]\n",
    "# etree.SubElement(postings, \"name\").text = \"check\""
   ]
  },
  {
   "cell_type": "code",
   "execution_count": 19,
   "metadata": {},
   "outputs": [
    {
     "output_type": "stream",
     "name": "stdout",
     "text": "b'<index/>\\n'\n"
    }
   ],
   "source": [
    "print(etree.tostring(index_root,pretty_print=True))"
   ]
  },
  {
   "cell_type": "code",
   "execution_count": 20,
   "metadata": {},
   "outputs": [],
   "source": [
    "# posting =index_root.append(etree.Element(\"postings\"))\n",
    "# print(etree.tostring(index_root,pretty_print=True))"
   ]
  },
  {
   "cell_type": "code",
   "execution_count": 21,
   "metadata": {},
   "outputs": [],
   "source": [
    "# etree.SubElement(index_root, \"postings\").text=\"Core\"\n",
    "# etree.SubElement(index_root, \"postings\").text=\"site\"\n"
   ]
  },
  {
   "cell_type": "code",
   "execution_count": 22,
   "metadata": {},
   "outputs": [],
   "source": [
    "# print(etree.tostring(index_root,pretty_print=True))"
   ]
  },
  {
   "cell_type": "code",
   "execution_count": 23,
   "metadata": {},
   "outputs": [],
   "source": [
    "# Lets try to make it \n",
    "index_root=etree.Element(\"index\")"
   ]
  },
  {
   "cell_type": "code",
   "execution_count": 24,
   "metadata": {},
   "outputs": [
    {
     "output_type": "stream",
     "name": "stdout",
     "text": "b'<index>\\n  <postings>\\n    <name>a</name>\\n    <inumber>16389</inumber>\\n    <inumber>16392</inumber>\\n    <inumber>16394</inumber>\\n    <inumber>16397</inumber>\\n    <inumber>16399</inumber>\\n    <inumber>16400</inumber>\\n    <inumber>16403</inumber>\\n    <inumber>16405</inumber>\\n    <inumber>16408</inumber>\\n    <inumber>16410</inumber>\\n    <inumber>16411</inumber>\\n    <inumber>16414</inumber>\\n    <inumber>16416</inumber>\\n    <inumber>16419</inumber>\\n    <inumber>16421</inumber>\\n    <inumber>16422</inumber>\\n  </postings>\\n  <postings>\\n    <name>user</name>\\n    <inumber>16386</inumber>\\n    <inumber>16387</inumber>\\n  </postings>\\n  <postings>\\n    <name>acls</name>\\n    <inumber>16397</inumber>\\n    <inumber>16408</inumber>\\n    <inumber>16419</inumber>\\n  </postings>\\n  <postings>\\n    <name>hdfs</name>\\n    <inumber>16395</inumber>\\n    <inumber>16406</inumber>\\n    <inumber>16417</inumber>\\n  </postings>\\n  <postings>\\n    <name>site</name>\\n    <inumber>16393</inumber>\\n    <inumber>16395</inumber>\\n    <inumber>16396</inumber>\\n    <inumber>16398</inumber>\\n    <inumber>16399</inumber>\\n    <inumber>16400</inumber>\\n    <inumber>16404</inumber>\\n    <inumber>16406</inumber>\\n    <inumber>16407</inumber>\\n    <inumber>16409</inumber>\\n    <inumber>16410</inumber>\\n    <inumber>16411</inumber>\\n    <inumber>16415</inumber>\\n    <inumber>16417</inumber>\\n    <inumber>16418</inumber>\\n    <inumber>16420</inumber>\\n    <inumber>16421</inumber>\\n    <inumber>16422</inumber>\\n  </postings>\\n  <postings>\\n    <name>yarn</name>\\n    <inumber>16400</inumber>\\n    <inumber>16411</inumber>\\n    <inumber>16422</inumber>\\n  </postings>\\n  <postings>\\n    <name>input</name>\\n    <inumber>16388</inumber>\\n    <inumber>16391</inumber>\\n    <inumber>16402</inumber>\\n    <inumber>16413</inumber>\\n  </postings>\\n  <postings>\\n    <name>kms</name>\\n    <inumber>16397</inumber>\\n    <inumber>16398</inumber>\\n    <inumber>16408</inumber>\\n    <inumber>16409</inumber>\\n    <inumber>16419</inumber>\\n    <inumber>16420</inumber>\\n  </postings>\\n  <postings>\\n    <name>hadoop</name>\\n    <inumber>16394</inumber>\\n    <inumber>16405</inumber>\\n    <inumber>16416</inumber>\\n  </postings>\\n  <postings>\\n    <name>core</name>\\n    <inumber>16393</inumber>\\n    <inumber>16404</inumber>\\n    <inumber>16415</inumber>\\n  </postings>\\n  <postings>\\n    <name>scheduler</name>\\n    <inumber>16392</inumber>\\n    <inumber>16403</inumber>\\n    <inumber>16414</inumber>\\n  </postings>\\n  <postings>\\n    <name>input1</name>\\n    <inumber>16388</inumber>\\n  </postings>\\n  <postings>\\n    <name>ec2</name>\\n    <inumber>16387</inumber>\\n  </postings>\\n  <postings>\\n    <name>policy</name>\\n    <inumber>16394</inumber>\\n    <inumber>16405</inumber>\\n    <inumber>16416</inumber>\\n  </postings>\\n  <postings>\\n    <name>inf351</name>\\n    <inumber>16412</inumber>\\n  </postings>\\n  <postings>\\n    <name>inf551</name>\\n    <inumber>16401</inumber>\\n  </postings>\\n  <postings>\\n    <name>httpfs</name>\\n    <inumber>16396</inumber>\\n    <inumber>16407</inumber>\\n    <inumber>16418</inumber>\\n  </postings>\\n  <postings>\\n    <name>mapred</name>\\n    <inumber>16399</inumber>\\n    <inumber>16410</inumber>\\n    <inumber>16421</inumber>\\n  </postings>\\n  <postings>\\n    <name>b</name>\\n    <inumber>16390</inumber>\\n  </postings>\\n  <postings>\\n    <name>capacity</name>\\n    <inumber>16392</inumber>\\n    <inumber>16403</inumber>\\n    <inumber>16414</inumber>\\n  </postings>\\n</index>\\n'\n"
    }
   ],
   "source": [
    "i=0\n",
    "for token in flat_token_list:\n",
    "    postings = index_root.append(etree.Element(\"postings\"))\n",
    "    postings = index_root[i]\n",
    "    etree.SubElement(postings, \"name\").text = token\n",
    "    i =i+1\n",
    "    j = 0\n",
    "    for element in fstree.xpath(\"//INodeSection/inode[contains(name,'{}')]/id\".format(token)):\n",
    "        etree.SubElement(postings, \"inumber\").text = element.text\n",
    "\n",
    "print(etree.tostring(index_root,pretty_print=True))\n",
    "\n"
   ]
  },
  {
   "cell_type": "code",
   "execution_count": 25,
   "metadata": {},
   "outputs": [],
   "source": [
    "with open(\"index.xml\", 'wb') as doc:\n",
    "   doc.write(etree.tostring(index_root, pretty_print = True))"
   ]
  },
  {
   "cell_type": "code",
   "execution_count": null,
   "metadata": {},
   "outputs": [],
   "source": []
  },
  {
   "cell_type": "code",
   "execution_count": null,
   "metadata": {},
   "outputs": [],
   "source": []
  },
  {
   "cell_type": "code",
   "execution_count": null,
   "metadata": {},
   "outputs": [],
   "source": []
  }
 ],
 "metadata": {
  "language_info": {
   "codemirror_mode": {
    "name": "ipython",
    "version": 3
   },
   "file_extension": ".py",
   "mimetype": "text/x-python",
   "name": "python",
   "nbconvert_exporter": "python",
   "pygments_lexer": "ipython3",
   "version": "3.7.7-final"
  },
  "orig_nbformat": 2,
  "kernelspec": {
   "name": "python3",
   "display_name": "Python 3"
  }
 },
 "nbformat": 4,
 "nbformat_minor": 2
}